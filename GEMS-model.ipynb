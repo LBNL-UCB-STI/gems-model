{
 "cells": [
  {
   "cell_type": "markdown",
   "metadata": {},
   "source": [
    "# Public Task 3 Model Interface"
   ]
  },
  {
   "cell_type": "code",
   "execution_count": 1,
   "metadata": {},
   "outputs": [
    {
     "name": "stdout",
     "output_type": "stream",
     "text": [
      "-------------------------------\n",
      "|  Loaded  192  trips\n",
      "|  Loaded  8  population groups\n",
      "|  Loaded  6  time periods\n",
      "|  Loaded  3  distance bins\n",
      "|  Loaded  144  ODs and  64 unique distance bins\n",
      "|  Loaded  20  trip generation rates\n",
      "-------------------------------\n",
      "|  Loaded  768  transition probabilities\n",
      "-------------------------------\n",
      "-------------------------------\n",
      "|  Loading time period  0   Overnight\n",
      "-------------------------------\n",
      "|  Loading time period  1   Overnight\n",
      "-------------------------------\n",
      "|  Loading time period  2   AM-Peak\n",
      "-------------------------------\n",
      "|  Loading time period  3   AM-Peak\n",
      "-------------------------------\n",
      "|  Loading time period  4   Midday\n",
      "-------------------------------\n",
      "|  Loading time period  5   Midday\n"
     ]
    }
   ],
   "source": [
    "import os\n",
    "\n",
    "import matplotlib.pyplot as plt\n",
    "import numpy as np\n",
    "import ipywidgets as widgets\n",
    "from ipywidgets import interact, interact_manual\n",
    "\n",
    "\n",
    "import plotly.io as pio\n",
    "pio.renderers.default = 'notebook'\n",
    "from model import Model\n",
    "\n",
    "model = Model(\"input-data\")\n",
    "\n",
    "\n",
    "\n"
   ]
  },
  {
   "cell_type": "code",
   "execution_count": 2,
   "metadata": {},
   "outputs": [
    {
     "data": {
      "application/vnd.jupyter.widget-view+json": {
       "model_id": "3fbd4808f9804b828fa89d6abed91c6f",
       "version_major": 2,
       "version_minor": 0
      },
      "text/plain": [
       "GridspecLayout(children=(HTML(value='<center>Bus lane coverage</center>', layout=Layout(grid_area='widget001')…"
      ]
     },
     "metadata": {},
     "output_type": "display_data"
    },
    {
     "data": {
      "application/vnd.jupyter.widget-view+json": {
       "model_id": "4ff8aca6d54f495e8d8e2726059c7287",
       "version_major": 2,
       "version_minor": 0
      },
      "text/plain": [
       "FigureWidget({\n",
       "    'data': [{'name': 'A',\n",
       "              'type': 'scatter',\n",
       "              'uid': 'f657e7a8-4250…"
      ]
     },
     "metadata": {},
     "output_type": "display_data"
    },
    {
     "name": "stdout",
     "output_type": "stream",
     "text": [
      "FloatSlider(value=0.02, description='A', layout=Layout(grid_area='widget004'), max=1.0, step=0.02)\n",
      "None\n",
      "FloatSlider(value=0.06, description='A', layout=Layout(grid_area='widget004'), max=1.0, step=0.02)\n",
      "None\n",
      "FloatSlider(value=0.1, description='A', layout=Layout(grid_area='widget004'), max=1.0, step=0.02)\n",
      "None\n",
      "FloatSlider(value=0.12, description='A', layout=Layout(grid_area='widget004'), max=1.0, step=0.02)\n",
      "None\n",
      "FloatSlider(value=0.14, description='A', layout=Layout(grid_area='widget004'), max=1.0, step=0.02)\n",
      "None\n",
      "successful convergence 3 4.5970143870434834e-05\n",
      "successful convergence 3 4.599528134973031e-05\n",
      "successful convergence 4 0.00033643618199337243\n",
      "successful convergence 5 0.00010177568218878942\n",
      "successful convergence 4 0.00027462177819201057\n",
      "successful convergence 4 0.00027689350834150616\n"
     ]
    }
   ],
   "source": [
    "\n",
    "\n",
    "display(model.interact.grid)\n",
    "model.interact.fig"
   ]
  },
  {
   "cell_type": "code",
   "execution_count": null,
   "metadata": {},
   "outputs": [],
   "source": []
  },
  {
   "cell_type": "code",
   "execution_count": null,
   "metadata": {},
   "outputs": [],
   "source": []
  },
  {
   "cell_type": "code",
   "execution_count": null,
   "metadata": {},
   "outputs": [],
   "source": []
  },
  {
   "cell_type": "code",
   "execution_count": null,
   "metadata": {},
   "outputs": [],
   "source": []
  },
  {
   "cell_type": "code",
   "execution_count": null,
   "metadata": {},
   "outputs": [],
   "source": []
  },
  {
   "cell_type": "code",
   "execution_count": null,
   "metadata": {},
   "outputs": [],
   "source": [
    "\n"
   ]
  },
  {
   "cell_type": "code",
   "execution_count": null,
   "metadata": {},
   "outputs": [],
   "source": []
  },
  {
   "cell_type": "code",
   "execution_count": null,
   "metadata": {},
   "outputs": [],
   "source": []
  }
 ],
 "metadata": {
  "kernelspec": {
   "display_name": "Python 3",
   "language": "python",
   "name": "python3"
  },
  "language_info": {
   "codemirror_mode": {
    "name": "ipython",
    "version": 3
   },
   "file_extension": ".py",
   "mimetype": "text/x-python",
   "name": "python",
   "nbconvert_exporter": "python",
   "pygments_lexer": "ipython3",
   "version": "3.7.7"
  }
 },
 "nbformat": 4,
 "nbformat_minor": 4
}
